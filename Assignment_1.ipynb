{
  "nbformat": 4,
  "nbformat_minor": 0,
  "metadata": {
    "colab": {
      "name": "Assignment 1.ipynb",
      "provenance": [],
      "authorship_tag": "ABX9TyNG/kAFyFktuu0CVdfjmqWb",
      "include_colab_link": true
    },
    "kernelspec": {
      "name": "python3",
      "display_name": "Python 3"
    },
    "language_info": {
      "name": "python"
    }
  },
  "cells": [
    {
      "cell_type": "markdown",
      "metadata": {
        "id": "view-in-github",
        "colab_type": "text"
      },
      "source": [
        "<a href=\"https://colab.research.google.com/github/Manu-Gr/Python/blob/main/Assignment_1.ipynb\" target=\"_parent\"><img src=\"https://colab.research.google.com/assets/colab-badge.svg\" alt=\"Open In Colab\"/></a>"
      ]
    },
    {
      "cell_type": "markdown",
      "metadata": {
        "id": "AwE03-5VNgXf"
      },
      "source": [
        "Calculate the probability of MPG  of Cars for the below cases.\n",
        "       \n",
        "\n",
        "a.\tP(MPG>38)\n",
        "\n",
        "b.\tP(MPG<40)\n",
        "\n",
        "c.    P (20<MPG<50)\n",
        "\n"
      ]
    },
    {
      "cell_type": "code",
      "metadata": {
        "id": "XAhI3iyLNsBh"
      },
      "source": [
        "import pandas as pd\n",
        "import numpy as np"
      ],
      "execution_count": 1,
      "outputs": []
    },
    {
      "cell_type": "code",
      "metadata": {
        "id": "c0weFS2VOHmr"
      },
      "source": [
        "from scipy import stats"
      ],
      "execution_count": 2,
      "outputs": []
    },
    {
      "cell_type": "code",
      "metadata": {
        "colab": {
          "base_uri": "https://localhost:8080/"
        },
        "id": "MC0dJOLFOMAe",
        "outputId": "4d69c447-5a33-43a6-e788-e6ffca736854"
      },
      "source": [
        "# a) P(MPG>38)\n",
        "\n",
        "1-stats.norm.cdf(38,loc = 34.42, scale = 9.074 )"
      ],
      "execution_count": 3,
      "outputs": [
        {
          "output_type": "execute_result",
          "data": {
            "text/plain": [
              "0.3465934767750194"
            ]
          },
          "metadata": {},
          "execution_count": 3
        }
      ]
    },
    {
      "cell_type": "code",
      "metadata": {
        "colab": {
          "base_uri": "https://localhost:8080/"
        },
        "id": "dU93pqBIPTBL",
        "outputId": "4ed04205-d671-4ba5-a63c-6ef28119b4f6"
      },
      "source": [
        "# b. P(MPG<40)\n",
        "\n",
        "stats.norm.cdf(40,loc = 34.42, scale = 9.074 )"
      ],
      "execution_count": 4,
      "outputs": [
        {
          "output_type": "execute_result",
          "data": {
            "text/plain": [
              "0.730704080621096"
            ]
          },
          "metadata": {},
          "execution_count": 4
        }
      ]
    },
    {
      "cell_type": "code",
      "metadata": {
        "colab": {
          "base_uri": "https://localhost:8080/"
        },
        "id": "r4hPU9tAPhwP",
        "outputId": "11e7009e-38f8-451c-f63d-210ac99e175e"
      },
      "source": [
        "# c. P (20<MPG<50)\n",
        "\n",
        "stats.norm.cdf(50,loc = 34.42, scale = 9.074 ) - stats.norm.cdf(20,loc = 34.42, scale = 9.074 )"
      ],
      "execution_count": 5,
      "outputs": [
        {
          "output_type": "execute_result",
          "data": {
            "text/plain": [
              "0.900997222144644"
            ]
          },
          "metadata": {},
          "execution_count": 5
        }
      ]
    },
    {
      "cell_type": "code",
      "metadata": {
        "id": "hBr0srKLQAFY"
      },
      "source": [
        ""
      ],
      "execution_count": null,
      "outputs": []
    }
  ]
}