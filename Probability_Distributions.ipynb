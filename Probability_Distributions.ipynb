{
  "nbformat": 4,
  "nbformat_minor": 0,
  "metadata": {
    "colab": {
      "name": "Probability Distributions.ipynb",
      "provenance": [],
      "collapsed_sections": [],
      "authorship_tag": "ABX9TyNNfGbozKSH4N+GoAdsxeDO",
      "include_colab_link": true
    },
    "kernelspec": {
      "name": "python3",
      "display_name": "Python 3"
    },
    "language_info": {
      "name": "python"
    }
  },
  "cells": [
    {
      "cell_type": "markdown",
      "metadata": {
        "id": "view-in-github",
        "colab_type": "text"
      },
      "source": [
        "<a href=\"https://colab.research.google.com/github/Manu-Gr/Python/blob/main/Probability_Distributions.ipynb\" target=\"_parent\"><img src=\"https://colab.research.google.com/assets/colab-badge.svg\" alt=\"Open In Colab\"/></a>"
      ]
    },
    {
      "cell_type": "code",
      "metadata": {
        "id": "HcypGHjHJ_Kg"
      },
      "source": [
        "# Normal Distribution"
      ],
      "execution_count": 1,
      "outputs": []
    },
    {
      "cell_type": "code",
      "metadata": {
        "id": "XJU7yR2GKKiV"
      },
      "source": [
        "  from scipy  import stats"
      ],
      "execution_count": 5,
      "outputs": []
    },
    {
      "cell_type": "code",
      "metadata": {
        "colab": {
          "base_uri": "https://localhost:8080/"
        },
        "id": "jDG3b0WvKVg2",
        "outputId": "1cab2af2-23f2-4c3c-b23f-0d370cb8ceb0"
      },
      "source": [
        "stats.norm.cdf(70,loc = 60, scale = 10 ) # For finding probability of x <=70"
      ],
      "execution_count": 6,
      "outputs": [
        {
          "output_type": "execute_result",
          "data": {
            "text/plain": [
              "0.8413447460685429"
            ]
          },
          "metadata": {},
          "execution_count": 6
        }
      ]
    },
    {
      "cell_type": "code",
      "metadata": {
        "colab": {
          "base_uri": "https://localhost:8080/"
        },
        "id": "qStqhPbhLFHZ",
        "outputId": "98639e15-861b-431e-f4b7-2f1d1777b299"
      },
      "source": [
        "# For finding probability of x >=70\n",
        "1-stats.norm.cdf(70,loc = 60, scale = 10 )"
      ],
      "execution_count": 7,
      "outputs": [
        {
          "output_type": "execute_result",
          "data": {
            "text/plain": [
              "0.15865525393145707"
            ]
          },
          "metadata": {},
          "execution_count": 7
        }
      ]
    },
    {
      "cell_type": "code",
      "metadata": {
        "id": "SA6UZ2shLVcM"
      },
      "source": [
        ""
      ],
      "execution_count": null,
      "outputs": []
    },
    {
      "cell_type": "markdown",
      "metadata": {
        "id": "dLo8zwEmLs1j"
      },
      "source": [
        "###### Q) Gmat scores are modeled using Normal Distribution\n",
        " Mean = 711 and Standard Deviation = 29"
      ]
    },
    {
      "cell_type": "code",
      "metadata": {
        "colab": {
          "base_uri": "https://localhost:8080/"
        },
        "id": "0bcUpinYMFtq",
        "outputId": "1b87e989-668a-48ca-e91a-f706461fcafc"
      },
      "source": [
        "# What is the probability of x<=680\n",
        "\n",
        "stats.norm.cdf(680,loc = 711, scale = 29 )"
      ],
      "execution_count": 8,
      "outputs": [
        {
          "output_type": "execute_result",
          "data": {
            "text/plain": [
              "0.14254260383881612"
            ]
          },
          "metadata": {},
          "execution_count": 8
        }
      ]
    },
    {
      "cell_type": "code",
      "metadata": {
        "colab": {
          "base_uri": "https://localhost:8080/"
        },
        "id": "AG3N0VRuMbQb",
        "outputId": "2d2b9b1a-0189-4980-ef67-6d7ead497eb6"
      },
      "source": [
        "#What is the probability ofbetween x<=697 and 740\n",
        "\n",
        "# stats.norm.cdf(740,loc = 711, scale = 29 ) #step 1 To get probability of all values less than 740\n",
        "# stats.norm.cdf(697,loc = 711, scale = 29 ) #step 2 To get probability of all values less than 697\n",
        "\n",
        "# BY subtracting both these values we get the required solution\n",
        "stats.norm.cdf(740,loc = 711, scale = 29 ) - stats.norm.cdf(697,loc = 711, scale = 29 ) "
      ],
      "execution_count": 15,
      "outputs": [
        {
          "output_type": "execute_result",
          "data": {
            "text/plain": [
              "0.5267111786415019"
            ]
          },
          "metadata": {},
          "execution_count": 15
        }
      ]
    },
    {
      "cell_type": "code",
      "metadata": {
        "id": "G8P0EdgeRmbd"
      },
      "source": [
        ""
      ],
      "execution_count": null,
      "outputs": []
    }
  ]
}